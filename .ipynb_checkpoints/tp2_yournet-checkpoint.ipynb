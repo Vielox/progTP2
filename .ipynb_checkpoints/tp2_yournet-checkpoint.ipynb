{
 "cells": [
  {
   "cell_type": "code",
   "execution_count": null,
   "metadata": {},
   "outputs": [],
   "source": [
    "from google.colab import drive\n",
    "drive.mount('/content/drive')\n",
    "!cp -r drive/MyDrive/IFT780/TP2/prog/* ."
   ]
  },
  {
   "cell_type": "markdown",
   "metadata": {},
   "source": [
    "# YourNet\n",
    "\n",
    "Dans ce notebook, vous implémenterez le YourNet, une architecture conçue spécialement pour le cours. De plus, vous verrez un exemple de base de code pour gérer différents modèles, jeux de données et expériences.\n",
    "\n",
    "Dans ce notebook, nous exécuterons des scripts comme si on les exécutait dans un terminal. Pour ce faire, il faut ajouter \"!\" avant la commande. Par exemple, pour entraîner un CNN sur CIFAR-10 pendant 10 epochs, la commande suivante peut être utilisée. Par contre, il faut d'abord implémenter les classes ResidualBlock, DenseBlock, BottleneckBlock dans CNNBlocks.py"
   ]
  },
  {
   "cell_type": "code",
   "execution_count": null,
   "metadata": {},
   "outputs": [],
   "source": [
    "from IPython.display import Image\n",
    "# Entraînons d'abord le modèle pendant une seule epoch pour valider que tout fonctionne\n",
    "!python train_yournet.py --model=CnnVanilla --dataset=cifar10 --num-epochs=1"
   ]
  },
  {
   "cell_type": "code",
   "execution_count": null,
   "metadata": {},
   "outputs": [],
   "source": [
    "Image('fig1.png')"
   ]
  },
  {
   "cell_type": "markdown",
   "metadata": {},
   "source": [
    "Si tout est bien configuré et codé, les modèles devraient fonctionner correctement. Vous devriez obtenir au moins **75\\%** d'accuracy en test sur CIFAR-10 avec le **VanillaCNN** après 20 epochs:"
   ]
  },
  {
   "cell_type": "code",
   "execution_count": null,
   "metadata": {},
   "outputs": [],
   "source": [
    "!python train_yournet.py --model=CnnVanilla --dataset=cifar10 --num-epochs=10 --out vanilla.png"
   ]
  },
  {
   "cell_type": "code",
   "execution_count": null,
   "metadata": {},
   "outputs": [],
   "source": [
    "Image('vanilla.png')"
   ]
  },
  {
   "cell_type": "markdown",
   "metadata": {},
   "source": [
    "Et au moins **77%** avec **YourNet**:"
   ]
  },
  {
   "cell_type": "code",
   "execution_count": null,
   "metadata": {},
   "outputs": [],
   "source": [
    "!python train_yournet.py --model=IFT780Net --dataset=cifar10 --num-epochs=20 --out YourNet.png"
   ]
  },
  {
   "cell_type": "code",
   "execution_count": null,
   "metadata": {},
   "outputs": [],
   "source": [
    "Image('YourNet.png')"
   ]
  },
  {
   "cell_type": "markdown",
   "metadata": {},
   "source": [
    "Comme vous pouvez le voir, les courbes d'apprentissage sont assez mauvaises et l'architecture du YourNet ne semble pas aider. Essayer de jouer avec les hyperparamètres, ainsi que d'essayer d'autres architectures afin d'augmenter les performances. **Mettez dans la cellule suivante la ligne permettant d'obtenir les meilleurs performances selon vos recherches**:"
   ]
  },
  {
   "cell_type": "code",
   "execution_count": null,
   "metadata": {},
   "outputs": [],
   "source": [
    "!python train_yournet.py --out best.png"
   ]
  },
  {
   "cell_type": "code",
   "execution_count": null,
   "metadata": {},
   "outputs": [],
   "source": [
    "Image('best.png')"
   ]
  }
 ],
 "metadata": {
  "kernelspec": {
   "display_name": "Python 3 (ipykernel)",
   "language": "python",
   "name": "python3"
  },
  "language_info": {
   "codemirror_mode": {
    "name": "ipython",
    "version": 3
   },
   "file_extension": ".py",
   "mimetype": "text/x-python",
   "name": "python",
   "nbconvert_exporter": "python",
   "pygments_lexer": "ipython3",
   "version": "3.8.10"
  }
 },
 "nbformat": 4,
 "nbformat_minor": 4
}
